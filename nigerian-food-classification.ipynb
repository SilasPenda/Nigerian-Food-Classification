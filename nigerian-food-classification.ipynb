{
 "cells": [
  {
   "cell_type": "code",
   "execution_count": 1,
   "metadata": {
    "_cell_guid": "b1076dfc-b9ad-4769-8c92-a6c4dae69d19",
    "_uuid": "8f2839f25d086af736a60e9eeb907d3b93b6e0e5",
    "execution": {
     "iopub.execute_input": "2022-08-17T09:16:13.909955Z",
     "iopub.status.busy": "2022-08-17T09:16:13.909345Z",
     "iopub.status.idle": "2022-08-17T09:16:20.268435Z",
     "shell.execute_reply": "2022-08-17T09:16:20.267453Z",
     "shell.execute_reply.started": "2022-08-17T09:16:13.909875Z"
    }
   },
   "outputs": [],
   "source": [
    "import pandas as pd\n",
    "import numpy as np\n",
    "import cv2\n",
    "import math\n",
    "import matplotlib.pyplot as plt\n",
    "\n",
    "import PIL.Image as Image\n",
    "import pathlib\n",
    "import os\n",
    "\n",
    "import tensorflow as tf\n",
    "import tensorflow_hub as hub\n",
    "\n",
    "from tensorflow import keras\n",
    "from keras.preprocessing import image\n",
    "from tensorflow.keras.utils import img_to_array\n",
    "from tensorflow.keras import layers\n",
    "from tensorflow.keras.models import Sequential"
   ]
  },
  {
   "cell_type": "code",
   "execution_count": 2,
   "metadata": {
    "execution": {
     "iopub.execute_input": "2022-08-17T09:16:38.517467Z",
     "iopub.status.busy": "2022-08-17T09:16:38.516652Z",
     "iopub.status.idle": "2022-08-17T09:16:38.611941Z",
     "shell.execute_reply": "2022-08-17T09:16:38.610998Z",
     "shell.execute_reply.started": "2022-08-17T09:16:38.517433Z"
    }
   },
   "outputs": [],
   "source": [
    "data_dir = pathlib.Path('../input/nigerianfooddataset/NigerianFood 3')\n",
    "image_paths = list(data_dir.glob(r'**/*.jpg'))"
   ]
  },
  {
   "cell_type": "code",
   "execution_count": 3,
   "metadata": {
    "execution": {
     "iopub.execute_input": "2022-08-17T09:16:38.950309Z",
     "iopub.status.busy": "2022-08-17T09:16:38.949197Z",
     "iopub.status.idle": "2022-08-17T09:16:38.963619Z",
     "shell.execute_reply": "2022-08-17T09:16:38.962353Z",
     "shell.execute_reply.started": "2022-08-17T09:16:38.950265Z"
    }
   },
   "outputs": [],
   "source": [
    "len(image_paths)"
   ]
  },
  {
   "cell_type": "code",
   "execution_count": 4,
   "metadata": {
    "execution": {
     "iopub.execute_input": "2022-08-17T09:16:39.926383Z",
     "iopub.status.busy": "2022-08-17T09:16:39.925965Z",
     "iopub.status.idle": "2022-08-17T09:16:39.931602Z",
     "shell.execute_reply": "2022-08-17T09:16:39.930241Z",
     "shell.execute_reply.started": "2022-08-17T09:16:39.926350Z"
    }
   },
   "outputs": [],
   "source": [
    "# Make a copy of the image paths list\n",
    "image_paths_copy = image_paths.copy()"
   ]
  },
  {
   "cell_type": "code",
   "execution_count": 5,
   "metadata": {
    "execution": {
     "iopub.execute_input": "2022-08-17T09:16:40.399065Z",
     "iopub.status.busy": "2022-08-17T09:16:40.397994Z",
     "iopub.status.idle": "2022-08-17T09:16:40.405201Z",
     "shell.execute_reply": "2022-08-17T09:16:40.403828Z",
     "shell.execute_reply.started": "2022-08-17T09:16:40.399011Z"
    }
   },
   "outputs": [],
   "source": [
    "# Create shuffle the list so i will be able to split list into 3 lists with random values\n",
    "import random\n",
    "\n",
    "random.shuffle(image_paths_copy)"
   ]
  },
  {
   "cell_type": "code",
   "execution_count": 6,
   "metadata": {
    "execution": {
     "iopub.execute_input": "2022-08-17T09:16:41.383115Z",
     "iopub.status.busy": "2022-08-17T09:16:41.382080Z",
     "iopub.status.idle": "2022-08-17T09:16:41.389221Z",
     "shell.execute_reply": "2022-08-17T09:16:41.388275Z",
     "shell.execute_reply.started": "2022-08-17T09:16:41.383063Z"
    }
   },
   "outputs": [],
   "source": [
    "# Split list into 3\n",
    "from itertools import islice\n",
    "\n",
    "length_to_split = [440, 100, 100]\n",
    "\n",
    "\n",
    "input = iter(image_paths_copy)\n",
    "output = [list(islice(input, elem))\n",
    "         for elem in length_to_split]"
   ]
  },
  {
   "cell_type": "code",
   "execution_count": 7,
   "metadata": {
    "execution": {
     "iopub.execute_input": "2022-08-17T09:16:41.540771Z",
     "iopub.status.busy": "2022-08-17T09:16:41.539760Z",
     "iopub.status.idle": "2022-08-17T09:16:41.547384Z",
     "shell.execute_reply": "2022-08-17T09:16:41.546080Z",
     "shell.execute_reply.started": "2022-08-17T09:16:41.540717Z"
    }
   },
   "outputs": [],
   "source": [
    "# Create train, validation and test data\n",
    "train_images_path = output[0]\n",
    "valid_images_path = output[1]\n",
    "test_images_path = output[2]"
   ]
  },
  {
   "cell_type": "code",
   "execution_count": 8,
   "metadata": {
    "execution": {
     "iopub.execute_input": "2022-08-17T09:16:42.248300Z",
     "iopub.status.busy": "2022-08-17T09:16:42.247742Z",
     "iopub.status.idle": "2022-08-17T09:16:42.257264Z",
     "shell.execute_reply": "2022-08-17T09:16:42.256254Z",
     "shell.execute_reply.started": "2022-08-17T09:16:42.248266Z"
    }
   },
   "outputs": [],
   "source": [
    "food_labels = []\n",
    "\n",
    "for filename in os.listdir(data_dir):\n",
    "    labels = filename.split('/')[-1]\n",
    "    food_labels.append(labels)\n",
    "    \n",
    "food_labels"
   ]
  },
  {
   "cell_type": "code",
   "execution_count": 9,
   "metadata": {
    "execution": {
     "iopub.execute_input": "2022-08-17T09:16:42.819039Z",
     "iopub.status.busy": "2022-08-17T09:16:42.816333Z",
     "iopub.status.idle": "2022-08-17T09:16:42.826029Z",
     "shell.execute_reply": "2022-08-17T09:16:42.824176Z",
     "shell.execute_reply.started": "2022-08-17T09:16:42.819003Z"
    }
   },
   "outputs": [],
   "source": [
    "def image_processing(filepath):\n",
    "    labels = [str(filepath[i]).split('/')[-2]\n",
    "             for i in range(len(filepath))]\n",
    "    \n",
    "    filepath = pd.Series(filepath, name = 'Filepath').astype(str)\n",
    "    labels = pd.Series(labels, name = 'Label')\n",
    "    \n",
    "    df = pd.concat([filepath, labels], axis='columns')\n",
    "    \n",
    "    return df"
   ]
  },
  {
   "cell_type": "code",
   "execution_count": 10,
   "metadata": {
    "execution": {
     "iopub.execute_input": "2022-08-17T09:16:43.397012Z",
     "iopub.status.busy": "2022-08-17T09:16:43.396037Z",
     "iopub.status.idle": "2022-08-17T09:16:43.409883Z",
     "shell.execute_reply": "2022-08-17T09:16:43.408879Z",
     "shell.execute_reply.started": "2022-08-17T09:16:43.396975Z"
    }
   },
   "outputs": [],
   "source": [
    "train_df = image_processing(train_images_path)\n",
    "test_df = image_processing(test_images_path)\n",
    "val_df = image_processing(valid_images_path)"
   ]
  },
  {
   "cell_type": "code",
   "execution_count": 11,
   "metadata": {
    "execution": {
     "iopub.execute_input": "2022-08-17T09:16:43.934268Z",
     "iopub.status.busy": "2022-08-17T09:16:43.933562Z",
     "iopub.status.idle": "2022-08-17T09:16:43.949615Z",
     "shell.execute_reply": "2022-08-17T09:16:43.948723Z",
     "shell.execute_reply.started": "2022-08-17T09:16:43.934225Z"
    }
   },
   "outputs": [],
   "source": [
    "# Create DataFrame with just one label for each food\n",
    "df_unique = train_df.copy().drop_duplicates(subset=['Label']).reset_index()"
   ]
  },
  {
   "cell_type": "code",
   "execution_count": 12,
   "metadata": {
    "execution": {
     "iopub.execute_input": "2022-08-17T09:16:44.518555Z",
     "iopub.status.busy": "2022-08-17T09:16:44.517443Z",
     "iopub.status.idle": "2022-08-17T09:16:44.525987Z",
     "shell.execute_reply": "2022-08-17T09:16:44.524919Z",
     "shell.execute_reply.started": "2022-08-17T09:16:44.518511Z"
    }
   },
   "outputs": [],
   "source": [
    "train_generator = tf.keras.preprocessing.image.ImageDataGenerator(\n",
    "preprocessing_function = tf.keras.applications.mobilenet_v2.preprocess_input\n",
    ")\n",
    "\n",
    "test_generator = tf.keras.preprocessing.image.ImageDataGenerator(\n",
    "preprocessing_function = tf.keras.applications.mobilenet_v2.preprocess_input\n",
    ")"
   ]
  },
  {
   "cell_type": "code",
   "execution_count": 13,
   "metadata": {
    "execution": {
     "iopub.execute_input": "2022-08-17T09:16:45.653642Z",
     "iopub.status.busy": "2022-08-17T09:16:45.652711Z",
     "iopub.status.idle": "2022-08-17T09:16:45.834483Z",
     "shell.execute_reply": "2022-08-17T09:16:45.833450Z",
     "shell.execute_reply.started": "2022-08-17T09:16:45.653600Z"
    }
   },
   "outputs": [],
   "source": [
    "train_images = train_generator.flow_from_dataframe(\n",
    "    dataframe  = train_df,\n",
    "    x_col = 'Filepath',\n",
    "    y_col = 'Label',\n",
    "    target_size = (224, 224),\n",
    "    color_mode = 'rgb',\n",
    "    class_mode = 'categorical',\n",
    "    batch_size = 32,\n",
    "    shuffle = True,\n",
    "    seed = 0,\n",
    "    rotation_range = 30,\n",
    "    zoom_range = 0.15,\n",
    "    width_shift_range = 0.2,\n",
    "    height_shift_range = 0.2,\n",
    "    shear_range = 0.15,\n",
    "    horizontal_flip = True,\n",
    "    fill_mode = 'nearest'\n",
    ")"
   ]
  },
  {
   "cell_type": "code",
   "execution_count": 14,
   "metadata": {
    "execution": {
     "iopub.execute_input": "2022-08-17T09:16:46.258793Z",
     "iopub.status.busy": "2022-08-17T09:16:46.257606Z",
     "iopub.status.idle": "2022-08-17T09:16:46.297285Z",
     "shell.execute_reply": "2022-08-17T09:16:46.296348Z",
     "shell.execute_reply.started": "2022-08-17T09:16:46.258741Z"
    }
   },
   "outputs": [],
   "source": [
    "val_images = train_generator.flow_from_dataframe(\n",
    "    dataframe  = val_df,\n",
    "    x_col = 'Filepath',\n",
    "    y_col = 'Label',\n",
    "    target_size = (224, 224),\n",
    "    color_mode = 'rgb',\n",
    "    class_mode = 'categorical',\n",
    "    batch_size = 32,\n",
    "    shuffle = True,\n",
    "    seed = 0,\n",
    "    rotation_range = 30,\n",
    "    zoom_range = 0.15,\n",
    "    width_shift_range = 0.2,\n",
    "    height_shift_range = 0.2,\n",
    "    shear_range = 0.15,\n",
    "    horizontal_flip = True,\n",
    "    fill_mode = 'nearest'\n",
    ")"
   ]
  },
  {
   "cell_type": "code",
   "execution_count": 15,
   "metadata": {
    "execution": {
     "iopub.execute_input": "2022-08-17T09:16:46.708371Z",
     "iopub.status.busy": "2022-08-17T09:16:46.707706Z",
     "iopub.status.idle": "2022-08-17T09:16:46.746888Z",
     "shell.execute_reply": "2022-08-17T09:16:46.745918Z",
     "shell.execute_reply.started": "2022-08-17T09:16:46.708338Z"
    }
   },
   "outputs": [],
   "source": [
    "test_images = test_generator.flow_from_dataframe(\n",
    "    dataframe  = test_df,\n",
    "    x_col = 'Filepath',\n",
    "    y_col = 'Label',\n",
    "    target_size = (224, 224),\n",
    "    color_mode = 'rgb',\n",
    "    class_mode = 'categorical',\n",
    "    batch_size = 32,\n",
    "    shuffle = False\n",
    ")"
   ]
  },
  {
   "cell_type": "code",
   "execution_count": 16,
   "metadata": {
    "execution": {
     "iopub.execute_input": "2022-08-17T09:16:47.608275Z",
     "iopub.status.busy": "2022-08-17T09:16:47.607580Z",
     "iopub.status.idle": "2022-08-17T09:16:52.343852Z",
     "shell.execute_reply": "2022-08-17T09:16:52.342856Z",
     "shell.execute_reply.started": "2022-08-17T09:16:47.608236Z"
    }
   },
   "outputs": [],
   "source": [
    "pretrained_model = tf.keras.applications.MobileNetV2(\n",
    "input_shape= (224, 224, 3),\n",
    "include_top = False,\n",
    "weights = 'imagenet',\n",
    "pooling = 'avg'\n",
    ")\n",
    "pretrained_model.trainable = False"
   ]
  },
  {
   "cell_type": "code",
   "execution_count": 17,
   "metadata": {
    "execution": {
     "iopub.execute_input": "2022-08-17T09:16:54.749458Z",
     "iopub.status.busy": "2022-08-17T09:16:54.749093Z",
     "iopub.status.idle": "2022-08-17T09:16:54.817131Z",
     "shell.execute_reply": "2022-08-17T09:16:54.816156Z",
     "shell.execute_reply.started": "2022-08-17T09:16:54.749427Z"
    }
   },
   "outputs": [],
   "source": [
    "inputs = pretrained_model.input\n",
    "\n",
    "x = tf.keras.layers.Dense(250, activation = 'relu')(pretrained_model.output)\n",
    "x1 = tf.keras.layers.Dense(200, activation = 'relu')(x)\n",
    "x2 = tf.keras.layers.Dense(150, activation = 'relu')(x1)\n",
    "x3 = tf.keras.layers.Dense(100, activation = 'relu')(x2)\n",
    "x4= tf.keras.layers.Dense(50, activation = 'relu')(x3)\n",
    "\n",
    "\n",
    "outputs = tf.keras.layers.Dense(8, activation = 'softmax')(x)\n",
    "\n",
    "model = tf.keras.Model(inputs = inputs, outputs = outputs)\n",
    "\n",
    "model.compile(\n",
    "    optimizer = 'adam',\n",
    "    loss = 'categorical_crossentropy',\n",
    "    metrics = ['accuracy']\n",
    ")"
   ]
  },
  {
   "cell_type": "code",
   "execution_count": 18,
   "metadata": {
    "execution": {
     "iopub.execute_input": "2022-08-17T09:16:56.583899Z",
     "iopub.status.busy": "2022-08-17T09:16:56.583104Z",
     "iopub.status.idle": "2022-08-17T09:18:38.596364Z",
     "shell.execute_reply": "2022-08-17T09:18:38.595341Z",
     "shell.execute_reply.started": "2022-08-17T09:16:56.583857Z"
    }
   },
   "outputs": [],
   "source": [
    "history = model.fit(\n",
    "    train_images,\n",
    "    validation_data = val_images,\n",
    "    batch_size = 32,\n",
    "    epochs = 10,\n",
    "    callbacks = [\n",
    "        tf.keras.callbacks.EarlyStopping(\n",
    "            monitor = 'val_loss',\n",
    "            patience = 2,\n",
    "            restore_best_weights = True\n",
    "        )\n",
    "        \n",
    "    ]\n",
    ")"
   ]
  },
  {
   "cell_type": "code",
   "execution_count": 19,
   "metadata": {
    "execution": {
     "iopub.execute_input": "2022-08-17T09:18:38.598514Z",
     "iopub.status.busy": "2022-08-17T09:18:38.598143Z",
     "iopub.status.idle": "2022-08-17T09:18:43.741868Z",
     "shell.execute_reply": "2022-08-17T09:18:43.740624Z",
     "shell.execute_reply.started": "2022-08-17T09:18:38.598478Z"
    }
   },
   "outputs": [],
   "source": [
    "# Predict the label of the test images\n",
    "pred = model.predict(test_images)\n",
    "pred = np.argmax(pred, axis=1)\n",
    "\n",
    "# Map the label\n",
    "labels = (train_images.class_indices)\n",
    "labels = dict((v,k) for k, v in labels.items())\n",
    "pred1 = [labels[k] for k in pred]"
   ]
  },
  {
   "cell_type": "code",
   "execution_count": 20,
   "metadata": {
    "execution": {
     "iopub.execute_input": "2022-08-17T09:18:49.837766Z",
     "iopub.status.busy": "2022-08-17T09:18:49.837306Z",
     "iopub.status.idle": "2022-08-17T09:18:49.844355Z",
     "shell.execute_reply": "2022-08-17T09:18:49.843324Z",
     "shell.execute_reply.started": "2022-08-17T09:18:49.837708Z"
    }
   },
   "outputs": [],
   "source": [
    "def output(imagepath):\n",
    "    img = image.load_img(imagepath, target_size=(224, 224, 3))\n",
    "    img = img_to_array(img)\n",
    "    img = img/255\n",
    "    img = np.expand_dims(img, [0])\n",
    "    answer = model.predict(img)\n",
    "    y_class = answer.argmax(axis=-1)\n",
    "    y = \" \".join(str(x) for x in y_class)\n",
    "    y = int(y)\n",
    "    res = labels[y]\n",
    "    return res"
   ]
  },
  {
   "cell_type": "code",
   "execution_count": 21,
   "metadata": {
    "execution": {
     "iopub.execute_input": "2022-08-17T09:18:52.811636Z",
     "iopub.status.busy": "2022-08-17T09:18:52.811282Z",
     "iopub.status.idle": "2022-08-17T09:18:53.736862Z",
     "shell.execute_reply": "2022-08-17T09:18:53.735840Z",
     "shell.execute_reply.started": "2022-08-17T09:18:52.811605Z"
    }
   },
   "outputs": [],
   "source": [
    "img = output('../input/nigerianfooddataset/NigerianFood 3/Egusi/11.EGUSI-SOUP.jpg')\n",
    "img"
   ]
  },
  {
   "cell_type": "code",
   "execution_count": 22,
   "metadata": {
    "execution": {
     "iopub.execute_input": "2022-08-17T09:18:56.470518Z",
     "iopub.status.busy": "2022-08-17T09:18:56.470132Z",
     "iopub.status.idle": "2022-08-17T09:19:18.766220Z",
     "shell.execute_reply": "2022-08-17T09:19:18.765206Z",
     "shell.execute_reply.started": "2022-08-17T09:18:56.470488Z"
    }
   },
   "outputs": [],
   "source": [
    "model.save('NF.h5')"
   ]
  }
 ],
 "metadata": {
  "kernelspec": {
   "display_name": "Python 3 (ipykernel)",
   "language": "python",
   "name": "python3"
  },
  "language_info": {
   "codemirror_mode": {
    "name": "ipython",
    "version": 3
   },
   "file_extension": ".py",
   "mimetype": "text/x-python",
   "name": "python",
   "nbconvert_exporter": "python",
   "pygments_lexer": "ipython3",
   "version": "3.9.7"
  }
 },
 "nbformat": 4,
 "nbformat_minor": 4
}
